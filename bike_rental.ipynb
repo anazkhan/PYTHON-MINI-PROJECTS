{
  "nbformat": 4,
  "nbformat_minor": 0,
  "metadata": {
    "colab": {
      "name": "bike rental.ipynb",
      "provenance": [],
      "collapsed_sections": [],
      "authorship_tag": "ABX9TyMGZQX/Y6XKLZSip6/8ZU1X",
      "include_colab_link": true
    },
    "kernelspec": {
      "name": "python3",
      "display_name": "Python 3"
    },
    "language_info": {
      "name": "python"
    }
  },
  "cells": [
    {
      "cell_type": "markdown",
      "metadata": {
        "id": "view-in-github",
        "colab_type": "text"
      },
      "source": [
        "<a href=\"https://colab.research.google.com/github/anazkhan/PYTHON-PROJECTS/blob/BIKE-RENTALS/bike_rental.ipynb\" target=\"_parent\"><img src=\"https://colab.research.google.com/assets/colab-badge.svg\" alt=\"Open In Colab\"/></a>"
      ]
    },
    {
      "cell_type": "code",
      "execution_count": null,
      "metadata": {
        "id": "gvsqETJ2B2Ir"
      },
      "outputs": [],
      "source": [
        "class BikeRental:\n",
        "  stock=100\n",
        "  def __init__(self):\n",
        "      print('Welcome to rental bike shop')\n",
        "  def displaystock(self):\n",
        "    print(BikeRental.stock)\n",
        "class customer(BikeRental):\n",
        "  \n",
        "\n",
        "  def __init__(self,number_of_bikes,rentalbasis,number_of_days_or_weeks,bill=0):\n",
        "    self.bill=bill\n",
        "    self.number_of_bikes=number_of_bikes\n",
        "    self.rentalbasis=rentalbasis\n",
        "    self.number_of_days_or_weeks=number_of_days_or_weeks\n",
        "    super().__init__()\n",
        "  def rentbike(self):\n",
        "    if self.number_of_bikes<=0:\n",
        "      print('abhey number of bikes shoud be positive')\n",
        "    elif self.number_of_bikes>BikeRental.stock:\n",
        "      print(BikeRental.stock,'available to rent')\n",
        "    else:\n",
        "      print(self.number_of_bikes,'Rented')\n",
        "      BikeRental.stock=BikeRental.stock-self.number_of_bikes\n",
        "  def returnbike(self):\n",
        "      if self.rentalbasis=='daily':\n",
        "        self.bill=self.number_of_bikes*100*self.number_of_days_or_weeks\n",
        "        if 2<self.number_of_bikes<6:\n",
        "          print(\"You are eligible for Family rental promotion of 30% discount\")\n",
        "          self.bill=self.bill-(self.bill*0.3)\n",
        "          print(self.bill)\n",
        "        else:\n",
        "          print(self.bill)\n",
        "      elif self.rentalbasis=='weekly':\n",
        "        self.bill=self.number_of_bikes*500*self.number_of_days_or_weeks\n",
        "        if 2<self.number_of_bikes<6:\n",
        "          print(\"You are eligible for Family rental promotion of 30% discount\")\n",
        "          self.bill=self.bill-(self.bill*0.3)\n",
        "          print(self.bill)\n",
        "        else:\n",
        "          print(self.bill)\n",
        "\n",
        "\n",
        "\n"
      ]
    }
  ]
}