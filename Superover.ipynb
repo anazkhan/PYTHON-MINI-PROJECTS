{
  "nbformat": 4,
  "nbformat_minor": 0,
  "metadata": {
    "colab": {
      "name": "Superover.ipynb",
      "provenance": [],
      "authorship_tag": "ABX9TyPIUl1K2txtf7ajonwnBqUu"
    },
    "kernelspec": {
      "name": "python3",
      "display_name": "Python 3"
    },
    "language_info": {
      "name": "python"
    }
  },
  "cells": [
    {
      "cell_type": "code",
      "execution_count": 1,
      "metadata": {
        "colab": {
          "base_uri": "https://localhost:8080/"
        },
        "id": "a1MvLdUVvNEN",
        "outputId": "a8f333b1-d1d4-4977-b7aa-bede61d325c4"
      },
      "outputs": [
        {
          "output_type": "stream",
          "name": "stdout",
          "text": [
            "perfomance of player 1 :{2: 'R', 6: 'R', 3: 'R', 4: 'R', 5: 'R', 0: 'W'}\n",
            "perfomance of player 2 :{2: 'R', 6: 'R', 5: 'R', 0: 'W', 1: 'R', 3: 'R'}\n",
            "scorecard of player 1 : 20/1\n",
            "scorecard of player 2 : 17/1\n",
            "player 1 wins by  3runs\n"
          ]
        }
      ],
      "source": [
        "import random\n",
        "def superover():\n",
        "  player1={}\n",
        "  run1=[]\n",
        "  \n",
        "  \n",
        "  \n",
        "  while len(player1)!= 6:\n",
        "    wicket1=0\n",
        "    r=random.randint(0,6)\n",
        "    run1.append(r)\n",
        "    run1=list(set(run1))\n",
        "    for i in run1:\n",
        "      if i==0:\n",
        "        player1[i]='W'\n",
        "      else:\n",
        "        player1[i]='R'\n",
        "        \n",
        "    for i in player1.values():\n",
        "        if i=='W':\n",
        "          wicket1=wicket1+1\n",
        "    total1=sum(player1.keys())\n",
        "  print('perfomance of player 1 :' + str(player1))\n",
        "\n",
        "  player2={}\n",
        "  run2=[]\n",
        "  \n",
        "  \n",
        "  \n",
        "  while len(player2)!= 6:\n",
        "    wicket2=0 \n",
        "    r=random.randint(0,6)\n",
        "    run2.append(r)\n",
        "    run2=list(set(run2))\n",
        "    \n",
        "    for i in run2:\n",
        "      if i==0:\n",
        "        player2[i]='W'\n",
        "      else:\n",
        "        player2[i]='R'\n",
        "       \n",
        "    for i in player2.values():\n",
        "        if i=='W':\n",
        "          wicket2=wicket2+1\n",
        "  total2=sum(player2.keys())\n",
        "  print('perfomance of player 2 :' + str(player2))\n",
        "\n",
        "  print('scorecard of player 1 : ' + str(total1)+ '/'+ str(wicket1))  \n",
        "  print('scorecard of player 2 : ' + str(total2)+ '/' + str(wicket2))\n",
        "  if total1==total2:\n",
        "    print('its a draw!')\n",
        "  elif total1 > total2:\n",
        "    print('player 1 wins by  ' + str(total1-total2) + 'runs')\n",
        "  elif total1 < total2:\n",
        "    print('player 2  wins by  ' + str(total2-total1) + 'runs')\n",
        "superover()\n",
        "\n"
      ]
    },
    {
      "cell_type": "code",
      "source": [
        ""
      ],
      "metadata": {
        "id": "uGK22J6YvY--"
      },
      "execution_count": null,
      "outputs": []
    }
  ]
}