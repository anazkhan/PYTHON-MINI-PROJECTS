{
  "nbformat": 4,
  "nbformat_minor": 0,
  "metadata": {
    "colab": {
      "name": "Contactapp.ipynb",
      "provenance": [],
      "collapsed_sections": [],
      "authorship_tag": "ABX9TyMzaD2hTvytCZrRkk38y1Cm"
    },
    "kernelspec": {
      "name": "python3",
      "display_name": "Python 3"
    },
    "language_info": {
      "name": "python"
    }
  },
  "cells": [
    {
      "cell_type": "code",
      "execution_count": 1,
      "metadata": {
        "id": "yInqrOkEpQUo"
      },
      "outputs": [],
      "source": [
        "contacts=[{'name':'anas','number':7994203370,'email':'ayanapple1@gmail.com'},{'name':'williamson','number':9496675157,'email':'kane555@gmail.com'},{'name':'david','number':9956782200,'email':'davidherath@gmail.com'}]\n",
        "def add_contact(contacts):\n",
        "  n=input('name ')\n",
        "  num=input('number ')\n",
        "  e=input('email ')\n",
        "  contacts.append({'name':n,'number':num,'email':e})\n",
        "  return contacts\n",
        "\n",
        "\n",
        "def delete_contact(contacts, name):\n",
        "\n",
        "  for i in contacts:\n",
        "    if i['name']==name:\n",
        "      contacts.remove(i)\n",
        "  print(contacts)\n",
        "\n",
        "\n",
        "def update_contact(contacts, name):\n",
        "  n=input('please update name or press enter  ')\n",
        "  e=input('please update email or press enter ')\n",
        "  num=input('please update number or press enter ')\n",
        "  for i in range(len(contacts)):\n",
        "    if contacts[i]['name']==name:\n",
        "      if len(n)>0:\n",
        "        contacts[i]['name']=n\n",
        "      if len(num)>0:\n",
        "        contacts[i]['number']=num\n",
        "      if len(e)>0:\n",
        "        contacts[i]['email']=e\n",
        "  print(contacts)\n",
        "\n",
        "def open_contact(contacts, name):\n",
        "  for i in contacts:\n",
        "      if i['name']==name:\n",
        "        print(i)\n",
        "        k=input('press u to update & d to delete contact & s to Stop : ')  \n",
        "        if k=='u':\n",
        "          update_contact(contacts,name)\n",
        "          break\n",
        "        elif k=='d':\n",
        "          delete_contact(contacts,name)\n",
        "          break  \n",
        "        elif k== 's':\n",
        "          break\n",
        "  else:\n",
        "    print('No Match Found!')\n",
        "\n",
        "\n",
        "    \n",
        "    \n",
        "    "
      ]
    },
    {
      "cell_type": "code",
      "source": [
        "from IPython.display import clear_output\n",
        "\n",
        "while True:\n",
        "\n",
        "    clear_output()\n",
        "    \n",
        "    action = input(\"Press 'a' - add contact, 'o' - open contact,  'd' - delete, q - quit\")\n",
        "    \n",
        "    if action == 'a':\n",
        "      add_contact(contacts)\n",
        "\n",
        "    elif action == 'o':\n",
        "        name = input(\"Enter name of the contact you want to open. \")\n",
        "        open_contact(contacts, name)   \n",
        "\n",
        "      \n",
        "    elif action == 'q':\n",
        "      break\n",
        "    \n",
        "    else:\n",
        "      print('invalid choice')"
      ],
      "metadata": {
        "id": "m89AgMz3ok4q"
      },
      "execution_count": null,
      "outputs": []
    }
  ]
}