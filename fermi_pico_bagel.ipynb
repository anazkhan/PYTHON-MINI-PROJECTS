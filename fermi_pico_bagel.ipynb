{
  "nbformat": 4,
  "nbformat_minor": 0,
  "metadata": {
    "colab": {
      "name": "fermi pico bagel.ipynb",
      "provenance": [],
      "collapsed_sections": [],
      "authorship_tag": "ABX9TyP0l9NGpCy0QRl7A6sBVSZb"
    },
    "kernelspec": {
      "name": "python3",
      "display_name": "Python 3"
    },
    "language_info": {
      "name": "python"
    }
  },
  "cells": [
    {
      "cell_type": "code",
      "execution_count": null,
      "metadata": {
        "id": "fkurTGiX2NZh"
      },
      "outputs": [],
      "source": [
        "from IPython.display import clear_output\n",
        "orginal='145'\n",
        "n=0\n",
        "while n<1:\n",
        "  output=[]\n",
        "  guess=input('enter the number ')\n",
        "  if len(guess)==len(orginal):\n",
        "    if len(orginal)!=len(set(guess)):\n",
        "      print('duplicate numbers')\n",
        "      continue\n",
        "    if orginal==guess:\n",
        "      for i in range(len(guess)):\n",
        "        print('fermi', end=' ')\n",
        "      print('\\nyou won!!')  \n",
        "      break\n",
        "    for i in range(len(guess)):\n",
        "      if guess[i]==orginal[i]:\n",
        "        output.append('fermi')\n",
        "      elif guess[i] in orginal:\n",
        "         output.append('pico')\n",
        "    print(' '.join(output))\n",
        "    if len(output)==0:\n",
        "      print('bagel')\n",
        "    clear_output()     \n",
        "  else:\n",
        "    print('enter valid input')\n",
        "    clear_output()  "
      ]
    }
  ]
}